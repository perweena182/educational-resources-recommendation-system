{
 "cells": [
  {
   "cell_type": "code",
   "execution_count": null,
   "id": "0fd573b6-1122-4697-97ef-8828362724c4",
   "metadata": {},
   "outputs": [],
   "source": [
    "import pandas as pd\n",
    "from surprise import Dataset, Reader, KNNBasic\n",
    "from surprise.model_selection import cross_validate\n",
    "\n",
    "# Load datasets\n",
    "books = pd.read_csv('books.csv')\n",
    "users = pd.read_csv('users.csv')\n",
    "ratings = pd.read_csv('ratings.csv')\n",
    "\n",
    "# Merge datasets\n",
    "book_ratings = pd.merge(ratings, books, on='book_id')\n",
    "book_user_ratings = pd.merge(book_ratings, users, on='user_id')\n",
    "\n",
    "# Load data into Surprise format\n",
    "reader = Reader(rating_scale=(1, 5))\n",
    "data = Dataset.load_from_df(book_user_ratings[['user_id', 'book_id', 'rating']], reader)\n",
    "\n",
    "# Build collaborative filtering model (KNNBasic)\n",
    "sim_options = {'name': 'cosine', 'user_based': False}  # Item-based similarity\n",
    "model = KNNBasic(sim_options=sim_options)\n",
    "\n",
    "# Evaluate the model\n",
    "cross_validate(model, data, measures=['RMSE', 'MAE'], cv=5, verbose=True)\n",
    "\n",
    "# Train the model on the whole dataset\n",
    "trainset = data.build_full_trainset()\n",
    "model.fit(trainset)\n",
    "\n",
    "# Function to get top N recommendations for a user\n",
    "def get_top_n_recommendations(user_id, n=10):\n",
    "    user_books = book_user_ratings[book_user_ratings['user_id'] == user_id]['book_id'].unique()\n",
    "    all_books = book_user_ratings['book_id'].unique()\n",
    "    new_books = list(set(all_books) - set(user_books))\n",
    "    \n",
    "    predictions = []\n",
    "    for book_id in new_books:\n",
    "        prediction = model.predict(user_id, book_id)\n",
    "        predictions.append((book_id, prediction.est))\n",
    "    \n",
    "    top_n = sorted(predictions, key=lambda x: x[1], reverse=True)[:n]\n",
    "    top_n_books = [book_id for book_id, _ in top_n]\n",
    "    top_n_titles = books[books['book_id'].isin(top_n_books)]['title']\n",
    "    \n",
    "    return top_n_titles\n",
    "\n",
    "# Example usage\n",
    "user_id = 1\n",
    "top_n_recommendations = get_top_n_recommendations(user_id)\n",
    "print(f\"Top 10 recommendations for user {user_id}:\")\n",
    "print(top_n_recommendations)\n"
   ]
  }
 ],
 "metadata": {
  "kernelspec": {
   "display_name": "Python 3 (ipykernel)",
   "language": "python",
   "name": "python3"
  },
  "language_info": {
   "codemirror_mode": {
    "name": "ipython",
    "version": 3
   },
   "file_extension": ".py",
   "mimetype": "text/x-python",
   "name": "python",
   "nbconvert_exporter": "python",
   "pygments_lexer": "ipython3",
   "version": "3.11.0rc2"
  }
 },
 "nbformat": 4,
 "nbformat_minor": 5
}
